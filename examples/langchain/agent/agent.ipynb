{
 "cells": [
  {
   "cell_type": "code",
   "execution_count": 1,
   "metadata": {},
   "outputs": [],
   "source": [
    "from codeinterpreter.sandbox.local_jupyter.manager import LocalJupyterManager"
   ]
  },
  {
   "cell_type": "code",
   "execution_count": 2,
   "metadata": {},
   "outputs": [],
   "source": [
    "manager = LocalJupyterManager()\n",
    "manager.init()\n",
    "sandbox =  manager.start()"
   ]
  },
  {
   "cell_type": "code",
   "execution_count": 3,
   "metadata": {},
   "outputs": [],
   "source": [
    "from pydantic import BaseModel\n",
    "from langchain.tools import StructuredTool\n",
    "\n",
    "def code_run(code:str):\n",
    "    output =  sandbox.run(code=code)\n",
    "    return output.content\n",
    "\n",
    "class CodeInput(BaseModel):\n",
    "    code: str\n",
    "\n",
    "tools = [\n",
    "    StructuredTool(\n",
    "        name=\"python\",\n",
    "        description=\"Input a string of code to a ipython interpreter. \"\n",
    "        \"Write the entire code in a single string. This string can \"\n",
    "        \"be really long, so you can use the `;` character to split lines. \"\n",
    "        \"Variables are preserved between runs. \",\n",
    "        func=code_run,\n",
    "        args_schema=CodeInput,\n",
    "    )\n",
    "]\n",
    "\n"
   ]
  },
  {
   "cell_type": "code",
   "execution_count": 4,
   "metadata": {},
   "outputs": [],
   "source": [
    "from langchain.chat_models import ChatOpenAI\n",
    "from langchain.agents import AgentExecutor\n",
    "from langchain.memory import ConversationBufferMemory\n",
    "from codeinterpreter.agent.openai_functions_agent.base import CustomOpenAIFunctionsAgent\n",
    "\n",
    "\n",
    "llm = ChatOpenAI(temperature=0, model=\"gpt-3.5-turbo-0613\")\n",
    "\n",
    "agent = CustomOpenAIFunctionsAgent.from_llm_and_tools(llm=llm,tools=tools)\n",
    "\n",
    "agent_executor = AgentExecutor(agent=agent, tools=tools, memory=ConversationBufferMemory(\n",
    "                memory_key=\"chat_history\", return_messages=True\n",
    "            ), verbose=True)"
   ]
  },
  {
   "cell_type": "code",
   "execution_count": 9,
   "metadata": {},
   "outputs": [
    {
     "name": "stdout",
     "output_type": "stream",
     "text": [
      "\n",
      "\n",
      "\u001b[1m> Entering new AgentExecutor chain...\u001b[0m\n",
      "\u001b[32;1m\u001b[1;3m\n",
      "Invoking: `python` with `import random\n",
      "\n",
      "# Generate two random numbers\n",
      "random_number1 = random.randint(1, 100)\n",
      "random_number2 = random.randint(1, 100)\n",
      "\n",
      "# Print the random numbers\n",
      "print(random_number1)\n",
      "print(random_number2)`\n",
      "\n",
      "\n",
      "\u001b[0m\u001b[36;1m\u001b[1;3m27\n",
      "11\u001b[0m\u001b[32;1m\u001b[1;3mThe two random numbers are 27 and 11.\u001b[0m\n",
      "\n",
      "\u001b[1m> Finished chain.\u001b[0m\n"
     ]
    },
    {
     "data": {
      "text/plain": [
       "{'input': 'print two random number',\n",
       " 'chat_history': [HumanMessage(content='create two random number, add them with 100', additional_kwargs={}, example=False),\n",
       "  AIMessage(content='The sum of two random numbers, added with 100, is 230.', additional_kwargs={}, example=False),\n",
       "  HumanMessage(content='create two random number, add them with 100', additional_kwargs={}, example=False),\n",
       "  AIMessage(content='The sum of two random numbers, added with 100, is 160.', additional_kwargs={}, example=False),\n",
       "  HumanMessage(content='print two random number', additional_kwargs={}, example=False),\n",
       "  AIMessage(content='The two random numbers are 77 and 12.', additional_kwargs={}, example=False),\n",
       "  HumanMessage(content='print two random number', additional_kwargs={}, example=False),\n",
       "  AIMessage(content='The two random numbers are 31 and 17.', additional_kwargs={}, example=False),\n",
       "  HumanMessage(content='print two random number', additional_kwargs={}, example=False),\n",
       "  AIMessage(content='The two random numbers are 27 and 11.', additional_kwargs={}, example=False)],\n",
       " 'output': 'The two random numbers are 27 and 11.'}"
      ]
     },
     "execution_count": 9,
     "metadata": {},
     "output_type": "execute_result"
    }
   ],
   "source": [
    "agent_executor({\"input\": \"print two random number\"})"
   ]
  },
  {
   "cell_type": "code",
   "execution_count": 10,
   "metadata": {},
   "outputs": [
    {
     "name": "stdout",
     "output_type": "stream",
     "text": [
      "\n",
      "\n",
      "\u001b[1m> Entering new AgentExecutor chain...\u001b[0m\n",
      "\u001b[32;1m\u001b[1;3m\n",
      "Invoking: `python` with `import requests\n",
      "from PIL import Image\n",
      "from io import BytesIO\n",
      "\n",
      "# Send a GET request to google.com\n",
      "response = requests.get(\"https://www.google.com\")\n",
      "\n",
      "# Get the logo image URL from the response\n",
      "logo_url = \"https://www.google.com/images/branding/googlelogo/1x/googlelogo_color_272x92dp.png\"\n",
      "\n",
      "# Send a GET request to the logo image URL\n",
      "logo_response = requests.get(logo_url)\n",
      "\n",
      "# Create an Image object from the logo image data\n",
      "logo_image = Image.open(BytesIO(logo_response.content))\n",
      "\n",
      "# Display the logo image\n",
      "logo_image.show()`\n",
      "\n",
      "\n",
      "\u001b[0m\u001b[36;1m\u001b[1;3mModuleNotFoundError: No module named 'PIL'\u001b[0m\u001b[32;1m\u001b[1;3mIt seems that the `PIL` (Python Imaging Library) module is not installed in the current environment. This module is required to process and display the image.\n",
      "\n",
      "To install the `PIL` module, you can use the following command:\n",
      "\n",
      "```\n",
      "!pip install pillow\n",
      "```\n",
      "\n",
      "Once the module is installed, you can run the code again to request google.com and display the logo image.\u001b[0m\n",
      "\n",
      "\u001b[1m> Finished chain.\u001b[0m\n"
     ]
    },
    {
     "data": {
      "text/plain": [
       "{'input': 'can you request google.com and show me the logo in the website',\n",
       " 'chat_history': [HumanMessage(content='create two random number, add them with 100', additional_kwargs={}, example=False),\n",
       "  AIMessage(content='The sum of two random numbers, added with 100, is 230.', additional_kwargs={}, example=False),\n",
       "  HumanMessage(content='create two random number, add them with 100', additional_kwargs={}, example=False),\n",
       "  AIMessage(content='The sum of two random numbers, added with 100, is 160.', additional_kwargs={}, example=False),\n",
       "  HumanMessage(content='print two random number', additional_kwargs={}, example=False),\n",
       "  AIMessage(content='The two random numbers are 77 and 12.', additional_kwargs={}, example=False),\n",
       "  HumanMessage(content='print two random number', additional_kwargs={}, example=False),\n",
       "  AIMessage(content='The two random numbers are 31 and 17.', additional_kwargs={}, example=False),\n",
       "  HumanMessage(content='print two random number', additional_kwargs={}, example=False),\n",
       "  AIMessage(content='The two random numbers are 27 and 11.', additional_kwargs={}, example=False),\n",
       "  HumanMessage(content='can you request google.com and show me the logo in the website', additional_kwargs={}, example=False),\n",
       "  AIMessage(content='It seems that the `PIL` (Python Imaging Library) module is not installed in the current environment. This module is required to process and display the image.\\n\\nTo install the `PIL` module, you can use the following command:\\n\\n```\\n!pip install pillow\\n```\\n\\nOnce the module is installed, you can run the code again to request google.com and display the logo image.', additional_kwargs={}, example=False)],\n",
       " 'output': 'It seems that the `PIL` (Python Imaging Library) module is not installed in the current environment. This module is required to process and display the image.\\n\\nTo install the `PIL` module, you can use the following command:\\n\\n```\\n!pip install pillow\\n```\\n\\nOnce the module is installed, you can run the code again to request google.com and display the logo image.'}"
      ]
     },
     "execution_count": 10,
     "metadata": {},
     "output_type": "execute_result"
    }
   ],
   "source": [
    "agent_executor({\"input\": \"can you request google.com and show me the logo in the website\"})"
   ]
  },
  {
   "cell_type": "code",
   "execution_count": null,
   "metadata": {},
   "outputs": [],
   "source": [
    "sandbox.run(\"!!pip install pillow\")"
   ]
  }
 ],
 "metadata": {
  "kernelspec": {
   "display_name": ".venv",
   "language": "python",
   "name": "python3"
  },
  "language_info": {
   "codemirror_mode": {
    "name": "ipython",
    "version": 3
   },
   "file_extension": ".py",
   "mimetype": "text/x-python",
   "name": "python",
   "nbconvert_exporter": "python",
   "pygments_lexer": "ipython3",
   "version": "3.10.12"
  },
  "orig_nbformat": 4
 },
 "nbformat": 4,
 "nbformat_minor": 2
}
