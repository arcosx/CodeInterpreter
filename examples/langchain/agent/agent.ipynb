{
 "cells": [
  {
   "cell_type": "code",
   "execution_count": 1,
   "metadata": {},
   "outputs": [],
   "source": [
    "from codeinterpreter.sandbox.local_jupyter.manager import LocalJupyterManager"
   ]
  },
  {
   "cell_type": "code",
   "execution_count": 2,
   "metadata": {},
   "outputs": [],
   "source": [
    "manager = LocalJupyterManager()\n",
    "manager.init()\n",
    "sandbox =  manager.start()"
   ]
  },
  {
   "cell_type": "code",
   "execution_count": 3,
   "metadata": {},
   "outputs": [],
   "source": [
    "from pydantic import BaseModel\n",
    "from langchain.tools import StructuredTool\n",
    "\n",
    "def code_run(code:str):\n",
    "    output =  sandbox.run(code=code)\n",
    "    return output.content\n",
    "\n",
    "class CodeInput(BaseModel):\n",
    "    code: str\n",
    "\n",
    "tools = [\n",
    "    StructuredTool(\n",
    "        name=\"python\",\n",
    "        description=\"Input a string of code to a ipython interpreter. \"\n",
    "        \"Write the entire code in a single string. This string can \"\n",
    "        \"be really long, so you can use the `;` character to split lines. \"\n",
    "        \"Variables are preserved between runs. \",\n",
    "        func=code_run,\n",
    "        args_schema=CodeInput,\n",
    "    )\n",
    "]\n",
    "\n"
   ]
  },
  {
   "cell_type": "code",
   "execution_count": 4,
   "metadata": {},
   "outputs": [],
   "source": [
    "from langchain.chat_models import ChatOpenAI\n",
    "from langchain.agents import AgentExecutor\n",
    "from langchain.memory import ConversationBufferMemory\n",
    "from codeinterpreter.agent.openai_functions_agent.base import CustomOpenAIFunctionsAgent\n",
    "\n",
    "\n",
    "llm = ChatOpenAI(temperature=0, model=\"gpt-3.5-turbo-0613\")\n",
    "\n",
    "agent = CustomOpenAIFunctionsAgent.from_llm_and_tools(llm=llm,tools=tools)\n",
    "\n",
    "agent_executor = AgentExecutor(agent=agent, tools=tools, memory=ConversationBufferMemory(\n",
    "                memory_key=\"chat_history\", return_messages=True\n",
    "            ), verbose=True)"
   ]
  },
  {
   "cell_type": "code",
   "execution_count": 5,
   "metadata": {},
   "outputs": [
    {
     "name": "stdout",
     "output_type": "stream",
     "text": [
      "\n",
      "\n",
      "\u001b[1m> Entering new AgentExecutor chain...\u001b[0m\n",
      "\u001b[32;1m\u001b[1;3m\n",
      "Invoking: `python` with `import random\n",
      "\n",
      "# Generate two random numbers\n",
      "random_number1 = random.randint(1, 100)\n",
      "random_number2 = random.randint(1, 100)\n",
      "\n",
      "# Print the random numbers\n",
      "print(random_number1, random_number2)`\n",
      "\n",
      "\n",
      "\u001b[0m\u001b[36;1m\u001b[1;3m93 27\u001b[0m\u001b[32;1m\u001b[1;3mThe two random numbers are 93 and 27.\u001b[0m\n",
      "\n",
      "\u001b[1m> Finished chain.\u001b[0m\n"
     ]
    },
    {
     "data": {
      "text/plain": [
       "{'input': 'print two random number',\n",
       " 'chat_history': [HumanMessage(content='print two random number', additional_kwargs={}, example=False),\n",
       "  AIMessage(content='The two random numbers are 93 and 27.', additional_kwargs={}, example=False)],\n",
       " 'output': 'The two random numbers are 93 and 27.'}"
      ]
     },
     "execution_count": 5,
     "metadata": {},
     "output_type": "execute_result"
    }
   ],
   "source": [
    "result = agent_executor({\"input\": \"print two random number\"})\n",
    "result"
   ]
  },
  {
   "cell_type": "code",
   "execution_count": 6,
   "metadata": {},
   "outputs": [
    {
     "name": "stdout",
     "output_type": "stream",
     "text": [
      "\n",
      "\n",
      "\u001b[1m> Entering new AgentExecutor chain...\u001b[0m\n",
      "\u001b[32;1m\u001b[1;3m\n",
      "Invoking: `python` with `import socket\n",
      "\n",
      "# Get the computer name\n",
      "computer_name = socket.gethostname()\n",
      "\n",
      "computer_name`\n",
      "\n",
      "\n",
      "\u001b[0m\u001b[36;1m\u001b[1;3m'arcosx-win'\u001b[0m\u001b[32;1m\u001b[1;3mThe computer name of this machine is \"arcosx-win\".\u001b[0m\n",
      "\n",
      "\u001b[1m> Finished chain.\u001b[0m\n"
     ]
    },
    {
     "data": {
      "text/plain": [
       "{'input': 'get this computer name',\n",
       " 'chat_history': [HumanMessage(content='print two random number', additional_kwargs={}, example=False),\n",
       "  AIMessage(content='The two random numbers are 93 and 27.', additional_kwargs={}, example=False),\n",
       "  HumanMessage(content='get this computer name', additional_kwargs={}, example=False),\n",
       "  AIMessage(content='The computer name of this machine is \"arcosx-win\".', additional_kwargs={}, example=False)],\n",
       " 'output': 'The computer name of this machine is \"arcosx-win\".'}"
      ]
     },
     "execution_count": 6,
     "metadata": {},
     "output_type": "execute_result"
    }
   ],
   "source": [
    "result = agent_executor({\"input\": \"get this computer name\"})\n",
    "result"
   ]
  },
  {
   "cell_type": "code",
   "execution_count": 7,
   "metadata": {},
   "outputs": [
    {
     "name": "stdout",
     "output_type": "stream",
     "text": [
      "\n",
      "\n",
      "\u001b[1m> Entering new AgentExecutor chain...\u001b[0m\n",
      "\u001b[32;1m\u001b[1;3m\n",
      "Invoking: `python` with `{'code': \"import requests\\nfrom bs4 import BeautifulSoup\\n\\nurl = 'https://simple.wikipedia.org/wiki/Evolution'\\nresponse = requests.get(url)\\nsoup = BeautifulSoup(response.content, 'html.parser')\\ntitle = soup.find('h1', {'id': 'firstHeading'}).text\\n\\ntitle\"}`\n",
      "\n",
      "\n",
      "\u001b[0m\u001b[36;1m\u001b[1;3m'Evolution'\u001b[0m\u001b[32;1m\u001b[1;3mThe title of the page is \"Evolution\".\u001b[0m\n",
      "\n",
      "\u001b[1m> Finished chain.\u001b[0m\n"
     ]
    },
    {
     "data": {
      "text/plain": [
       "{'input': 'read this page https://simple.wikipedia.org/wiki/Evolution and get title for me',\n",
       " 'chat_history': [HumanMessage(content='print two random number', additional_kwargs={}, example=False),\n",
       "  AIMessage(content='The two random numbers are 93 and 27.', additional_kwargs={}, example=False),\n",
       "  HumanMessage(content='get this computer name', additional_kwargs={}, example=False),\n",
       "  AIMessage(content='The computer name of this machine is \"arcosx-win\".', additional_kwargs={}, example=False),\n",
       "  HumanMessage(content='read this page https://simple.wikipedia.org/wiki/Evolution and get title for me', additional_kwargs={}, example=False),\n",
       "  AIMessage(content='The title of the page is \"Evolution\".', additional_kwargs={}, example=False)],\n",
       " 'output': 'The title of the page is \"Evolution\".'}"
      ]
     },
     "execution_count": 7,
     "metadata": {},
     "output_type": "execute_result"
    }
   ],
   "source": [
    "result =  agent_executor({\"input\": \"read this page https://simple.wikipedia.org/wiki/Evolution and get title for me\"})\n",
    "result"
   ]
  },
  {
   "cell_type": "code",
   "execution_count": null,
   "metadata": {},
   "outputs": [],
   "source": []
  }
 ],
 "metadata": {
  "kernelspec": {
   "display_name": ".venv",
   "language": "python",
   "name": "python3"
  },
  "language_info": {
   "codemirror_mode": {
    "name": "ipython",
    "version": 3
   },
   "file_extension": ".py",
   "mimetype": "text/x-python",
   "name": "python",
   "nbconvert_exporter": "python",
   "pygments_lexer": "ipython3",
   "version": "3.10.12"
  },
  "orig_nbformat": 4
 },
 "nbformat": 4,
 "nbformat_minor": 2
}
